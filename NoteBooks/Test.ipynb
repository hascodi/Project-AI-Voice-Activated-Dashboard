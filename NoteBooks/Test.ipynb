{
 "cells": [
  {
   "cell_type": "code",
   "execution_count": 8,
   "outputs": [
    {
     "name": "stdout",
     "output_type": "stream",
     "text": [
      "(1, 16000)\n",
      "yes\n"
     ]
    }
   ],
   "source": [
    "import numpy as np\n",
    "import io\n",
    "import tensorflow as tf\n",
    "\n",
    "def file_to_byte_array(file_name):\n",
    "    with io.open(file_name, 'rb') as f:\n",
    "        return f.read()\n",
    "\n",
    "# Example usage\n",
    "byte_array = file_to_byte_array('C:/Users\\Toonv\\OneDrive\\Documents\\Sound Recordings/Recording.wav')\n",
    "# print(byte_array)\n",
    "x, _ = tf.audio.decode_wav(byte_array, desired_channels=1, desired_samples=16000, )\n",
    "x = tf.squeeze(x, axis=-1)\n",
    "x = x[tf.newaxis, :]\n",
    "print(x.shape)\n",
    "\n",
    "label_names = ['down', 'go', 'left', 'no', 'right', 'stop', 'up', 'yes']\n",
    "imported = tf.saved_model.load(\"../NoteBooks/saved\")\n",
    "prediction = imported(x)\n",
    "result = np.argmax(prediction[0])\n",
    "print(label_names[result])\n"
   ],
   "metadata": {
    "collapsed": false
   }
  },
  {
   "cell_type": "code",
   "execution_count": 8,
   "outputs": [],
   "source": [],
   "metadata": {
    "collapsed": false
   }
  }
 ],
 "metadata": {
  "kernelspec": {
   "display_name": "Python 3",
   "language": "python",
   "name": "python3"
  },
  "language_info": {
   "codemirror_mode": {
    "name": "ipython",
    "version": 2
   },
   "file_extension": ".py",
   "mimetype": "text/x-python",
   "name": "python",
   "nbconvert_exporter": "python",
   "pygments_lexer": "ipython2",
   "version": "2.7.6"
  }
 },
 "nbformat": 4,
 "nbformat_minor": 0
}

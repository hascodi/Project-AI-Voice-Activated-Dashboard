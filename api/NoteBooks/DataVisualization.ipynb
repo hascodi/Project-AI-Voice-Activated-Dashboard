{
 "cells": [
  {
   "cell_type": "markdown",
   "source": [
    "# Import libs"
   ],
   "metadata": {
    "collapsed": false
   }
  },
  {
   "cell_type": "code",
   "execution_count": 10,
   "outputs": [],
   "source": [
    "import deeplake\n",
    "import librosa.display\n",
    "import numpy as np\n",
    "from IPython.display import Audio\n",
    "from matplotlib import pyplot as plt\n",
    "from scipy.io import wavfile"
   ],
   "metadata": {
    "collapsed": false
   }
  },
  {
   "cell_type": "markdown",
   "source": [
    "# Set global variables to use in the whole project"
   ],
   "metadata": {
    "collapsed": false
   }
  },
  {
   "cell_type": "code",
   "execution_count": 11,
   "outputs": [],
   "source": [
    "sample_rate = 16000\n",
    "wavFileNr = 67"
   ],
   "metadata": {
    "collapsed": false
   }
  },
  {
   "cell_type": "markdown",
   "source": [
    "# Get our data and put it in a numpy array"
   ],
   "metadata": {
    "collapsed": false
   }
  },
  {
   "cell_type": "code",
   "execution_count": 13,
   "outputs": [
    {
     "name": "stdout",
     "output_type": "stream",
     "text": [
      "hub://activeloop/timit-train loaded successfully.\n",
      "This dataset can be visualized in Jupyter Notebook by ds.visualize() or at https://app.activeloop.ai/activeloop/timit-train\n"
     ]
    },
    {
     "ename": "ModuleNotFoundError",
     "evalue": "PyAV is not installed. Please run `pip install deeplake[audio]`",
     "output_type": "error",
     "traceback": [
      "\u001B[1;31m---------------------------------------------------------------------------\u001B[0m",
      "\u001B[1;31mModuleNotFoundError\u001B[0m                       Traceback (most recent call last)",
      "Input \u001B[1;32mIn [13]\u001B[0m, in \u001B[0;36m<cell line: 2>\u001B[1;34m()\u001B[0m\n\u001B[0;32m      1\u001B[0m ds \u001B[38;5;241m=\u001B[39m deeplake\u001B[38;5;241m.\u001B[39mload(\u001B[38;5;124m\"\u001B[39m\u001B[38;5;124mhub://activeloop/timit-train\u001B[39m\u001B[38;5;124m\"\u001B[39m)\n\u001B[1;32m----> 2\u001B[0m AUDIO_FILE \u001B[38;5;241m=\u001B[39m \u001B[43mds\u001B[49m\u001B[38;5;241;43m.\u001B[39;49m\u001B[43maudios\u001B[49m\u001B[43m[\u001B[49m\u001B[43mwavFileNr\u001B[49m\u001B[43m]\u001B[49m\u001B[38;5;241;43m.\u001B[39;49m\u001B[43mnumpy\u001B[49m\u001B[43m(\u001B[49m\u001B[43m)\u001B[49m\n",
      "File \u001B[1;32m~\\miniconda3\\envs\\api\\lib\\site-packages\\deeplake\\core\\tensor.py:708\u001B[0m, in \u001B[0;36mTensor.numpy\u001B[1;34m(self, aslist, fetch_chunks)\u001B[0m\n\u001B[0;32m    683\u001B[0m \u001B[38;5;28;01mdef\u001B[39;00m \u001B[38;5;21mnumpy\u001B[39m(\n\u001B[0;32m    684\u001B[0m     \u001B[38;5;28mself\u001B[39m, aslist\u001B[38;5;241m=\u001B[39m\u001B[38;5;28;01mFalse\u001B[39;00m, fetch_chunks\u001B[38;5;241m=\u001B[39m\u001B[38;5;28;01mFalse\u001B[39;00m\n\u001B[0;32m    685\u001B[0m ) \u001B[38;5;241m-\u001B[39m\u001B[38;5;241m>\u001B[39m Union[np\u001B[38;5;241m.\u001B[39mndarray, List[np\u001B[38;5;241m.\u001B[39mndarray]]:\n\u001B[0;32m    686\u001B[0m     \u001B[38;5;124;03m\"\"\"Computes the contents of the tensor in numpy format.\u001B[39;00m\n\u001B[0;32m    687\u001B[0m \n\u001B[0;32m    688\u001B[0m \u001B[38;5;124;03m    Args:\u001B[39;00m\n\u001B[1;32m   (...)\u001B[0m\n\u001B[0;32m    706\u001B[0m \u001B[38;5;124;03m        For tensors of htype ``polygon``, aslist is always ``True``.\u001B[39;00m\n\u001B[0;32m    707\u001B[0m \u001B[38;5;124;03m    \"\"\"\u001B[39;00m\n\u001B[1;32m--> 708\u001B[0m     ret \u001B[38;5;241m=\u001B[39m \u001B[38;5;28;43mself\u001B[39;49m\u001B[38;5;241;43m.\u001B[39;49m\u001B[43mchunk_engine\u001B[49m\u001B[38;5;241;43m.\u001B[39;49m\u001B[43mnumpy\u001B[49m\u001B[43m(\u001B[49m\n\u001B[0;32m    709\u001B[0m \u001B[43m        \u001B[49m\u001B[38;5;28;43mself\u001B[39;49m\u001B[38;5;241;43m.\u001B[39;49m\u001B[43mindex\u001B[49m\u001B[43m,\u001B[49m\n\u001B[0;32m    710\u001B[0m \u001B[43m        \u001B[49m\u001B[43maslist\u001B[49m\u001B[38;5;241;43m=\u001B[39;49m\u001B[43maslist\u001B[49m\u001B[43m,\u001B[49m\n\u001B[0;32m    711\u001B[0m \u001B[43m        \u001B[49m\u001B[43mfetch_chunks\u001B[49m\u001B[38;5;241;43m=\u001B[39;49m\u001B[43mfetch_chunks\u001B[49m\u001B[43m,\u001B[49m\n\u001B[0;32m    712\u001B[0m \u001B[43m        \u001B[49m\u001B[43mpad_tensor\u001B[49m\u001B[38;5;241;43m=\u001B[39;49m\u001B[38;5;28;43mself\u001B[39;49m\u001B[38;5;241;43m.\u001B[39;49m\u001B[43mpad_tensor\u001B[49m\u001B[43m,\u001B[49m\n\u001B[0;32m    713\u001B[0m \u001B[43m    \u001B[49m\u001B[43m)\u001B[49m\n\u001B[0;32m    714\u001B[0m     \u001B[38;5;28;01mif\u001B[39;00m \u001B[38;5;28mself\u001B[39m\u001B[38;5;241m.\u001B[39mhtype \u001B[38;5;241m==\u001B[39m \u001B[38;5;124m\"\u001B[39m\u001B[38;5;124mpoint_cloud\u001B[39m\u001B[38;5;124m\"\u001B[39m:\n\u001B[0;32m    715\u001B[0m         \u001B[38;5;28;01mif\u001B[39;00m \u001B[38;5;28misinstance\u001B[39m(ret, \u001B[38;5;28mlist\u001B[39m):\n",
      "File \u001B[1;32m~\\miniconda3\\envs\\api\\lib\\site-packages\\deeplake\\core\\chunk_engine.py:1438\u001B[0m, in \u001B[0;36mChunkEngine.numpy\u001B[1;34m(self, index, aslist, use_data_cache, fetch_chunks, pad_tensor)\u001B[0m\n\u001B[0;32m   1436\u001B[0m \u001B[38;5;28mself\u001B[39m\u001B[38;5;241m.\u001B[39mcheck_link_ready()\n\u001B[0;32m   1437\u001B[0m fetch_chunks \u001B[38;5;241m=\u001B[39m fetch_chunks \u001B[38;5;129;01mor\u001B[39;00m \u001B[38;5;28mself\u001B[39m\u001B[38;5;241m.\u001B[39m_get_full_chunk(index)\n\u001B[1;32m-> 1438\u001B[0m \u001B[38;5;28;01mreturn\u001B[39;00m \u001B[43m(\u001B[49m\u001B[38;5;28;43mself\u001B[39;49m\u001B[38;5;241;43m.\u001B[39;49m\u001B[43m_sequence_numpy\u001B[49m\u001B[43m \u001B[49m\u001B[38;5;28;43;01mif\u001B[39;49;00m\u001B[43m \u001B[49m\u001B[38;5;28;43mself\u001B[39;49m\u001B[38;5;241;43m.\u001B[39;49m\u001B[43mis_sequence\u001B[49m\u001B[43m \u001B[49m\u001B[38;5;28;43;01melse\u001B[39;49;00m\u001B[43m \u001B[49m\u001B[38;5;28;43mself\u001B[39;49m\u001B[38;5;241;43m.\u001B[39;49m\u001B[43m_numpy\u001B[49m\u001B[43m)\u001B[49m\u001B[43m(\u001B[49m\n\u001B[0;32m   1439\u001B[0m \u001B[43m    \u001B[49m\u001B[43mindex\u001B[49m\u001B[43m,\u001B[49m\u001B[43m \u001B[49m\u001B[43maslist\u001B[49m\u001B[43m,\u001B[49m\u001B[43m \u001B[49m\u001B[43muse_data_cache\u001B[49m\u001B[43m,\u001B[49m\u001B[43m \u001B[49m\u001B[43mfetch_chunks\u001B[49m\u001B[43m,\u001B[49m\u001B[43m \u001B[49m\u001B[43mpad_tensor\u001B[49m\n\u001B[0;32m   1440\u001B[0m \u001B[43m\u001B[49m\u001B[43m)\u001B[49m\n",
      "File \u001B[1;32m~\\miniconda3\\envs\\api\\lib\\site-packages\\deeplake\\core\\chunk_engine.py:1602\u001B[0m, in \u001B[0;36mChunkEngine._numpy\u001B[1;34m(self, index, aslist, use_data_cache, fetch_chunks, pad_tensor)\u001B[0m\n\u001B[0;32m   1600\u001B[0m samples \u001B[38;5;241m=\u001B[39m []\n\u001B[0;32m   1601\u001B[0m \u001B[38;5;28;01mfor\u001B[39;00m global_sample_index \u001B[38;5;129;01min\u001B[39;00m index\u001B[38;5;241m.\u001B[39mvalues[\u001B[38;5;241m0\u001B[39m]\u001B[38;5;241m.\u001B[39mindices(length):\n\u001B[1;32m-> 1602\u001B[0m     sample \u001B[38;5;241m=\u001B[39m \u001B[38;5;28;43mself\u001B[39;49m\u001B[38;5;241;43m.\u001B[39;49m\u001B[43mget_single_sample\u001B[49m\u001B[43m(\u001B[49m\n\u001B[0;32m   1603\u001B[0m \u001B[43m        \u001B[49m\u001B[43mglobal_sample_index\u001B[49m\u001B[43m,\u001B[49m\n\u001B[0;32m   1604\u001B[0m \u001B[43m        \u001B[49m\u001B[43mindex\u001B[49m\u001B[43m,\u001B[49m\n\u001B[0;32m   1605\u001B[0m \u001B[43m        \u001B[49m\u001B[43mfetch_chunks\u001B[49m\u001B[38;5;241;43m=\u001B[39;49m\u001B[43mfetch_chunks\u001B[49m\u001B[43m,\u001B[49m\n\u001B[0;32m   1606\u001B[0m \u001B[43m        \u001B[49m\u001B[43mpad_tensor\u001B[49m\u001B[38;5;241;43m=\u001B[39;49m\u001B[43mpad_tensor\u001B[49m\u001B[43m,\u001B[49m\n\u001B[0;32m   1607\u001B[0m \u001B[43m    \u001B[49m\u001B[43m)\u001B[49m\n\u001B[0;32m   1608\u001B[0m     check_sample_shape(sample\u001B[38;5;241m.\u001B[39mshape, last_shape, \u001B[38;5;28mself\u001B[39m\u001B[38;5;241m.\u001B[39mkey, index, aslist)\n\u001B[0;32m   1609\u001B[0m     last_shape \u001B[38;5;241m=\u001B[39m sample\u001B[38;5;241m.\u001B[39mshape\n",
      "File \u001B[1;32m~\\miniconda3\\envs\\api\\lib\\site-packages\\deeplake\\core\\chunk_engine.py:1556\u001B[0m, in \u001B[0;36mChunkEngine.get_single_sample\u001B[1;34m(self, global_sample_index, index, fetch_chunks, pad_tensor)\u001B[0m\n\u001B[0;32m   1553\u001B[0m         \u001B[38;5;28;01mreturn\u001B[39;00m sample\n\u001B[0;32m   1555\u001B[0m \u001B[38;5;28;01mif\u001B[39;00m \u001B[38;5;129;01mnot\u001B[39;00m \u001B[38;5;28mself\u001B[39m\u001B[38;5;241m.\u001B[39m_is_tiled_sample(global_sample_index):\n\u001B[1;32m-> 1556\u001B[0m     sample \u001B[38;5;241m=\u001B[39m \u001B[38;5;28;43mself\u001B[39;49m\u001B[38;5;241;43m.\u001B[39;49m\u001B[43mget_non_tiled_sample\u001B[49m\u001B[43m(\u001B[49m\n\u001B[0;32m   1557\u001B[0m \u001B[43m        \u001B[49m\u001B[43mglobal_sample_index\u001B[49m\u001B[43m,\u001B[49m\u001B[43m \u001B[49m\u001B[43mindex\u001B[49m\u001B[43m,\u001B[49m\u001B[43m \u001B[49m\u001B[43mfetch_chunks\u001B[49m\u001B[38;5;241;43m=\u001B[39;49m\u001B[43mfetch_chunks\u001B[49m\n\u001B[0;32m   1558\u001B[0m \u001B[43m    \u001B[49m\u001B[43m)\u001B[49m\n\u001B[0;32m   1559\u001B[0m \u001B[38;5;28;01melif\u001B[39;00m \u001B[38;5;28mlen\u001B[39m(index\u001B[38;5;241m.\u001B[39mvalues) \u001B[38;5;241m==\u001B[39m \u001B[38;5;241m1\u001B[39m:\n\u001B[0;32m   1560\u001B[0m     sample \u001B[38;5;241m=\u001B[39m \u001B[38;5;28mself\u001B[39m\u001B[38;5;241m.\u001B[39mget_full_tiled_sample(global_sample_index)\n",
      "File \u001B[1;32m~\\miniconda3\\envs\\api\\lib\\site-packages\\deeplake\\core\\chunk_engine.py:1515\u001B[0m, in \u001B[0;36mChunkEngine.get_non_tiled_sample\u001B[1;34m(self, global_sample_index, index, fetch_chunks)\u001B[0m\n\u001B[0;32m   1513\u001B[0m \u001B[38;5;28;01mif\u001B[39;00m \u001B[38;5;28mself\u001B[39m\u001B[38;5;241m.\u001B[39mis_video:\n\u001B[0;32m   1514\u001B[0m     \u001B[38;5;28;01mreturn\u001B[39;00m \u001B[38;5;28mself\u001B[39m\u001B[38;5;241m.\u001B[39mget_video_sample(global_sample_index, index)\n\u001B[1;32m-> 1515\u001B[0m \u001B[38;5;28;01mreturn\u001B[39;00m \u001B[38;5;28;43mself\u001B[39;49m\u001B[38;5;241;43m.\u001B[39;49m\u001B[43mget_basic_sample\u001B[49m\u001B[43m(\u001B[49m\n\u001B[0;32m   1516\u001B[0m \u001B[43m    \u001B[49m\u001B[43mglobal_sample_index\u001B[49m\u001B[43m,\u001B[49m\u001B[43m \u001B[49m\u001B[43mindex\u001B[49m\u001B[43m,\u001B[49m\u001B[43m \u001B[49m\u001B[43mfetch_chunks\u001B[49m\u001B[38;5;241;43m=\u001B[39;49m\u001B[43mfetch_chunks\u001B[49m\n\u001B[0;32m   1517\u001B[0m \u001B[43m\u001B[49m\u001B[43m)\u001B[49m\n",
      "File \u001B[1;32m~\\miniconda3\\envs\\api\\lib\\site-packages\\deeplake\\core\\chunk_engine.py:1504\u001B[0m, in \u001B[0;36mChunkEngine.get_basic_sample\u001B[1;34m(self, global_sample_index, index, fetch_chunks)\u001B[0m\n\u001B[0;32m   1500\u001B[0m local_sample_index \u001B[38;5;241m=\u001B[39m enc\u001B[38;5;241m.\u001B[39mtranslate_index_relative_to_chunks(global_sample_index)\n\u001B[0;32m   1501\u001B[0m chunk \u001B[38;5;241m=\u001B[39m \u001B[38;5;28mself\u001B[39m\u001B[38;5;241m.\u001B[39mget_chunk_from_chunk_id(\n\u001B[0;32m   1502\u001B[0m     chunk_id, partial_chunk_bytes\u001B[38;5;241m=\u001B[39mworst_case_header_size\n\u001B[0;32m   1503\u001B[0m )\n\u001B[1;32m-> 1504\u001B[0m ret \u001B[38;5;241m=\u001B[39m \u001B[43mchunk\u001B[49m\u001B[38;5;241;43m.\u001B[39;49m\u001B[43mread_sample\u001B[49m\u001B[43m(\u001B[49m\n\u001B[0;32m   1505\u001B[0m \u001B[43m    \u001B[49m\u001B[43mlocal_sample_index\u001B[49m\u001B[43m,\u001B[49m\n\u001B[0;32m   1506\u001B[0m \u001B[43m    \u001B[49m\u001B[43mcast\u001B[49m\u001B[38;5;241;43m=\u001B[39;49m\u001B[38;5;28;43mself\u001B[39;49m\u001B[38;5;241;43m.\u001B[39;49m\u001B[43mtensor_meta\u001B[49m\u001B[38;5;241;43m.\u001B[39;49m\u001B[43mhtype\u001B[49m\u001B[43m \u001B[49m\u001B[38;5;241;43m!=\u001B[39;49m\u001B[43m \u001B[49m\u001B[38;5;124;43m\"\u001B[39;49m\u001B[38;5;124;43mdicom\u001B[39;49m\u001B[38;5;124;43m\"\u001B[39;49m\u001B[43m,\u001B[49m\n\u001B[0;32m   1507\u001B[0m \u001B[43m\u001B[49m\u001B[43m)\u001B[49m\n\u001B[0;32m   1508\u001B[0m \u001B[38;5;28;01mif\u001B[39;00m \u001B[38;5;28mlen\u001B[39m(index) \u001B[38;5;241m>\u001B[39m \u001B[38;5;241m1\u001B[39m:\n\u001B[0;32m   1509\u001B[0m     ret \u001B[38;5;241m=\u001B[39m ret[\u001B[38;5;28mtuple\u001B[39m(entry\u001B[38;5;241m.\u001B[39mvalue \u001B[38;5;28;01mfor\u001B[39;00m entry \u001B[38;5;129;01min\u001B[39;00m index\u001B[38;5;241m.\u001B[39mvalues[\u001B[38;5;241m1\u001B[39m:])]\n",
      "File \u001B[1;32m~\\miniconda3\\envs\\api\\lib\\site-packages\\deeplake\\core\\chunk\\sample_compressed_chunk.py:123\u001B[0m, in \u001B[0;36mSampleCompressedChunk.read_sample\u001B[1;34m(self, local_index, cast, copy, sub_index, stream, decompress, is_tile)\u001B[0m\n\u001B[0;32m    116\u001B[0m     buffer \u001B[38;5;241m=\u001B[39m decompress_bytes(buffer, \u001B[38;5;28mself\u001B[39m\u001B[38;5;241m.\u001B[39mcompression)\n\u001B[0;32m    117\u001B[0m     \u001B[38;5;28;01mreturn\u001B[39;00m Polygons\u001B[38;5;241m.\u001B[39mfrombuffer(\n\u001B[0;32m    118\u001B[0m         buffer,\n\u001B[0;32m    119\u001B[0m         dtype\u001B[38;5;241m=\u001B[39m\u001B[38;5;28mself\u001B[39m\u001B[38;5;241m.\u001B[39mtensor_meta\u001B[38;5;241m.\u001B[39mdtype,\n\u001B[0;32m    120\u001B[0m         ndim\u001B[38;5;241m=\u001B[39mshape[\u001B[38;5;241m-\u001B[39m\u001B[38;5;241m1\u001B[39m],\n\u001B[0;32m    121\u001B[0m     )\n\u001B[1;32m--> 123\u001B[0m sample \u001B[38;5;241m=\u001B[39m \u001B[43mdecompress_array\u001B[49m\u001B[43m(\u001B[49m\n\u001B[0;32m    124\u001B[0m \u001B[43m    \u001B[49m\u001B[43mbuffer\u001B[49m\u001B[43m,\u001B[49m\n\u001B[0;32m    125\u001B[0m \u001B[43m    \u001B[49m\u001B[43mshape\u001B[49m\u001B[43m,\u001B[49m\n\u001B[0;32m    126\u001B[0m \u001B[43m    \u001B[49m\u001B[38;5;28;43mself\u001B[39;49m\u001B[38;5;241;43m.\u001B[39;49m\u001B[43mdtype\u001B[49m\u001B[43m,\u001B[49m\n\u001B[0;32m    127\u001B[0m \u001B[43m    \u001B[49m\u001B[38;5;28;43mself\u001B[39;49m\u001B[38;5;241;43m.\u001B[39;49m\u001B[43mcompression\u001B[49m\u001B[43m,\u001B[49m\n\u001B[0;32m    128\u001B[0m \u001B[43m    \u001B[49m\u001B[43mstart_idx\u001B[49m\u001B[38;5;241;43m=\u001B[39;49m\u001B[43mstart\u001B[49m\u001B[43m,\u001B[49m\n\u001B[0;32m    129\u001B[0m \u001B[43m    \u001B[49m\u001B[43mend_idx\u001B[49m\u001B[38;5;241;43m=\u001B[39;49m\u001B[43mstop\u001B[49m\u001B[43m,\u001B[49m\n\u001B[0;32m    130\u001B[0m \u001B[43m    \u001B[49m\u001B[43mstep\u001B[49m\u001B[38;5;241;43m=\u001B[39;49m\u001B[43mstep\u001B[49m\u001B[43m,\u001B[49m\n\u001B[0;32m    131\u001B[0m \u001B[43m    \u001B[49m\u001B[43mreverse\u001B[49m\u001B[38;5;241;43m=\u001B[39;49m\u001B[43mreverse\u001B[49m\u001B[43m,\u001B[49m\n\u001B[0;32m    132\u001B[0m \u001B[43m\u001B[49m\u001B[43m)\u001B[49m\n\u001B[0;32m    134\u001B[0m \u001B[38;5;28;01mif\u001B[39;00m squeeze:\n\u001B[0;32m    135\u001B[0m     sample \u001B[38;5;241m=\u001B[39m sample\u001B[38;5;241m.\u001B[39msqueeze(\u001B[38;5;241m0\u001B[39m)\n",
      "File \u001B[1;32m~\\miniconda3\\envs\\api\\lib\\site-packages\\deeplake\\core\\compression.py:286\u001B[0m, in \u001B[0;36mdecompress_array\u001B[1;34m(buffer, shape, dtype, compression, start_idx, end_idx, step, reverse)\u001B[0m\n\u001B[0;32m    284\u001B[0m         \u001B[38;5;28;01mraise\u001B[39;00m SampleDecompressionError()\n\u001B[0;32m    285\u001B[0m \u001B[38;5;28;01melif\u001B[39;00m compr_type \u001B[38;5;241m==\u001B[39m AUDIO_COMPRESSION:\n\u001B[1;32m--> 286\u001B[0m     \u001B[38;5;28;01mreturn\u001B[39;00m \u001B[43m_decompress_audio\u001B[49m\u001B[43m(\u001B[49m\u001B[43mbuffer\u001B[49m\u001B[43m)\u001B[49m\n\u001B[0;32m    287\u001B[0m \u001B[38;5;28;01melif\u001B[39;00m compr_type \u001B[38;5;241m==\u001B[39m VIDEO_COMPRESSION:\n\u001B[0;32m    288\u001B[0m     \u001B[38;5;28;01mreturn\u001B[39;00m _decompress_video(buffer, start_idx, end_idx, step, reverse)  \u001B[38;5;66;03m# type: ignore\u001B[39;00m\n",
      "File \u001B[1;32m~\\miniconda3\\envs\\api\\lib\\site-packages\\deeplake\\core\\compression.py:1059\u001B[0m, in \u001B[0;36m_decompress_audio\u001B[1;34m(file)\u001B[0m\n\u001B[0;32m   1056\u001B[0m \u001B[38;5;28;01mdef\u001B[39;00m \u001B[38;5;21m_decompress_audio\u001B[39m(\n\u001B[0;32m   1057\u001B[0m     file: Union[\u001B[38;5;28mbytes\u001B[39m, \u001B[38;5;28mmemoryview\u001B[39m, \u001B[38;5;28mstr\u001B[39m],\n\u001B[0;32m   1058\u001B[0m ):\n\u001B[1;32m-> 1059\u001B[0m     container, astream \u001B[38;5;241m=\u001B[39m \u001B[43m_open_audio\u001B[49m\u001B[43m(\u001B[49m\u001B[43mfile\u001B[49m\u001B[43m)\u001B[49m\n\u001B[0;32m   1060\u001B[0m     shape \u001B[38;5;241m=\u001B[39m _read_shape_from_astream(container, astream)\n\u001B[0;32m   1062\u001B[0m     \u001B[38;5;28;01mif\u001B[39;00m shape[\u001B[38;5;241m0\u001B[39m] \u001B[38;5;241m==\u001B[39m \u001B[38;5;241m0\u001B[39m:\n",
      "File \u001B[1;32m~\\miniconda3\\envs\\api\\lib\\site-packages\\deeplake\\core\\compression.py:990\u001B[0m, in \u001B[0;36m_open_audio\u001B[1;34m(file)\u001B[0m\n\u001B[0;32m    988\u001B[0m \u001B[38;5;28;01mdef\u001B[39;00m \u001B[38;5;21m_open_audio\u001B[39m(file: Union[\u001B[38;5;28mstr\u001B[39m, \u001B[38;5;28mbytes\u001B[39m, \u001B[38;5;28mmemoryview\u001B[39m]):\n\u001B[0;32m    989\u001B[0m     \u001B[38;5;28;01mif\u001B[39;00m \u001B[38;5;129;01mnot\u001B[39;00m _PYAV_INSTALLED:\n\u001B[1;32m--> 990\u001B[0m         \u001B[38;5;28;01mraise\u001B[39;00m \u001B[38;5;167;01mModuleNotFoundError\u001B[39;00m(\n\u001B[0;32m    991\u001B[0m             \u001B[38;5;124m\"\u001B[39m\u001B[38;5;124mPyAV is not installed. Please run `pip install deeplake[audio]`\u001B[39m\u001B[38;5;124m\"\u001B[39m\n\u001B[0;32m    992\u001B[0m         )\n\u001B[0;32m    993\u001B[0m     \u001B[38;5;28;01mif\u001B[39;00m \u001B[38;5;28misinstance\u001B[39m(file, \u001B[38;5;28mstr\u001B[39m):\n\u001B[0;32m    994\u001B[0m         container \u001B[38;5;241m=\u001B[39m av\u001B[38;5;241m.\u001B[39mopen(\n\u001B[0;32m    995\u001B[0m             file, options\u001B[38;5;241m=\u001B[39m{\u001B[38;5;124m\"\u001B[39m\u001B[38;5;124mprotocol_whitelist\u001B[39m\u001B[38;5;124m\"\u001B[39m: \u001B[38;5;124m\"\u001B[39m\u001B[38;5;124mfile,http,https,tcp,tls,subfile\u001B[39m\u001B[38;5;124m\"\u001B[39m}\n\u001B[0;32m    996\u001B[0m         )\n",
      "\u001B[1;31mModuleNotFoundError\u001B[0m: PyAV is not installed. Please run `pip install deeplake[audio]`"
     ]
    }
   ],
   "source": [
    "ds = deeplake.load(\"hub://activeloop/timit-train\")\n",
    "AUDIO_FILE = ds.audios[wavFileNr].numpy()"
   ],
   "metadata": {
    "collapsed": false
   }
  },
  {
   "cell_type": "markdown",
   "source": [
    "# Scale the data so it's ready to write"
   ],
   "metadata": {
    "collapsed": false
   }
  },
  {
   "cell_type": "code",
   "execution_count": null,
   "outputs": [],
   "source": [
    "scaled = np.int16(AUDIO_FILE/np.max(np.abs(AUDIO_FILE)) * 32767)\n",
    "wavfile.write('sound.wav', sample_rate, scaled)\n",
    "filename = 'sound.wav'"
   ],
   "metadata": {
    "collapsed": false
   }
  },
  {
   "cell_type": "markdown",
   "source": [
    "# Play sound"
   ],
   "metadata": {
    "collapsed": false
   }
  },
  {
   "cell_type": "code",
   "execution_count": null,
   "outputs": [],
   "source": [
    "Audio(filename)"
   ],
   "metadata": {
    "collapsed": false
   }
  },
  {
   "cell_type": "markdown",
   "source": [
    "# Change from array[int16] to float32"
   ],
   "metadata": {
    "collapsed": false
   }
  },
  {
   "cell_type": "code",
   "execution_count": null,
   "outputs": [],
   "source": [
    "wav = scaled.astype(np.float32) / 32768.0\n",
    "wav = wav.reshape(-1)\n",
    "print(wav)"
   ],
   "metadata": {
    "collapsed": false
   }
  },
  {
   "cell_type": "markdown",
   "source": [
    "# Show spectrogram"
   ],
   "metadata": {
    "collapsed": false
   }
  },
  {
   "cell_type": "code",
   "execution_count": null,
   "outputs": [],
   "source": [
    "plt.figure(figsize=(14, 5))\n",
    "librosa.display.specshow(librosa.amplitude_to_db(np.abs(librosa.stft(wav)), ref=np.max), y_axis='log', x_axis='time')\n",
    "plt.colorbar(format='%+2.0f dB')\n",
    "plt.title('Power spectrogram')\n",
    "plt.tight_layout()\n",
    "plt.show()"
   ],
   "metadata": {
    "collapsed": false
   }
  },
  {
   "cell_type": "markdown",
   "source": [
    "# Show wave"
   ],
   "metadata": {
    "collapsed": false
   }
  },
  {
   "cell_type": "code",
   "execution_count": null,
   "outputs": [],
   "source": [
    "plt.figure(figsize=(14, 5))\n",
    "librosa.display.waveshow(wav, sr=sample_rate)\n",
    "plt.show()"
   ],
   "metadata": {
    "collapsed": false
   }
  }
 ],
 "metadata": {
  "kernelspec": {
   "display_name": "Python 3",
   "language": "python",
   "name": "python3"
  },
  "language_info": {
   "codemirror_mode": {
    "name": "ipython",
    "version": 2
   },
   "file_extension": ".py",
   "mimetype": "text/x-python",
   "name": "python",
   "nbconvert_exporter": "python",
   "pygments_lexer": "ipython2",
   "version": "2.7.6"
  }
 },
 "nbformat": 4,
 "nbformat_minor": 0
}
